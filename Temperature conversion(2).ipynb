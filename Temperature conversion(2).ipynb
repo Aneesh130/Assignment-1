{
 "cells": [
  {
   "cell_type": "code",
   "execution_count": 1,
   "id": "0bd41951-a232-4116-b8af-9a9cd5b8005c",
   "metadata": {},
   "outputs": [
    {
     "name": "stdin",
     "output_type": "stream",
     "text": [
      "Enter celsius- 70\n"
     ]
    },
    {
     "name": "stdout",
     "output_type": "stream",
     "text": [
      "Temperature in celsius- 70\n",
      "Temperature in Fahrenheit- 158.0\n"
     ]
    }
   ],
   "source": [
    "C = int(input( 'Enter celsius-'))\n",
    "F = C* 9/5 +32\n",
    "print ('Temperature in celsius-', C)\n",
    "print ('Temperature in Fahrenheit-',F)"
   ]
  },
  {
   "cell_type": "code",
   "execution_count": null,
   "id": "42afb2b7-94c3-4418-83d4-39cd0fcefb58",
   "metadata": {},
   "outputs": [],
   "source": []
  }
 ],
 "metadata": {
  "kernelspec": {
   "display_name": "Python 3 (ipykernel)",
   "language": "python",
   "name": "python3"
  },
  "language_info": {
   "codemirror_mode": {
    "name": "ipython",
    "version": 3
   },
   "file_extension": ".py",
   "mimetype": "text/x-python",
   "name": "python",
   "nbconvert_exporter": "python",
   "pygments_lexer": "ipython3",
   "version": "3.12.4"
  }
 },
 "nbformat": 4,
 "nbformat_minor": 5
}
