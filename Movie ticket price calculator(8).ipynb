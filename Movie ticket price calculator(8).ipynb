{
 "cells": [
  {
   "cell_type": "code",
   "execution_count": 2,
   "id": "cc705010-080d-4e02-b390-8ecd1e0e39f1",
   "metadata": {},
   "outputs": [
    {
     "name": "stdin",
     "output_type": "stream",
     "text": [
      "Enter age- 18\n"
     ]
    },
    {
     "name": "stdout",
     "output_type": "stream",
     "text": [
      "Ticket price is- 450\n"
     ]
    }
   ],
   "source": [
    "Age = int(input('Enter age-'))\n",
    "if Age <18:\n",
    "    print ('Ticket price is-',108)\n",
    "elif Age >=18 and Age<=60:\n",
    "    print ('Ticket price is-',450)\n",
    "else:\n",
    "    print('Ticket price is-',150)\n"
   ]
  },
  {
   "cell_type": "code",
   "execution_count": null,
   "id": "72eb1477-18ce-46e1-acb5-ecf72a7b67ba",
   "metadata": {},
   "outputs": [],
   "source": []
  }
 ],
 "metadata": {
  "kernelspec": {
   "display_name": "Python 3 (ipykernel)",
   "language": "python",
   "name": "python3"
  },
  "language_info": {
   "codemirror_mode": {
    "name": "ipython",
    "version": 3
   },
   "file_extension": ".py",
   "mimetype": "text/x-python",
   "name": "python",
   "nbconvert_exporter": "python",
   "pygments_lexer": "ipython3",
   "version": "3.12.4"
  }
 },
 "nbformat": 4,
 "nbformat_minor": 5
}
