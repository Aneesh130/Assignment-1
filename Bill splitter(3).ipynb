{
 "cells": [
  {
   "cell_type": "code",
   "execution_count": 3,
   "id": "62542c18-86a3-4ce5-9343-5527dd9f6883",
   "metadata": {},
   "outputs": [
    {
     "name": "stdin",
     "output_type": "stream",
     "text": [
      " Enter number of friends- 10\n"
     ]
    },
    {
     "name": "stdout",
     "output_type": "stream",
     "text": [
      " Total number of friends- 10\n",
      " Amount to be paid by each person- 657.0\n"
     ]
    }
   ],
   "source": [
    "A = 6570\n",
    "n = int(input(' Enter number of friends-'))\n",
    "P = A/n\n",
    "print (' Total number of friends-',n)\n",
    "print(' Amount to be paid by each person-', P)\n",
    "\n"
   ]
  },
  {
   "cell_type": "code",
   "execution_count": null,
   "id": "06dcc7e8-c2ef-42c7-aa97-663e3042eadd",
   "metadata": {},
   "outputs": [],
   "source": []
  }
 ],
 "metadata": {
  "kernelspec": {
   "display_name": "Python 3 (ipykernel)",
   "language": "python",
   "name": "python3"
  },
  "language_info": {
   "codemirror_mode": {
    "name": "ipython",
    "version": 3
   },
   "file_extension": ".py",
   "mimetype": "text/x-python",
   "name": "python",
   "nbconvert_exporter": "python",
   "pygments_lexer": "ipython3",
   "version": "3.12.4"
  }
 },
 "nbformat": 4,
 "nbformat_minor": 5
}
