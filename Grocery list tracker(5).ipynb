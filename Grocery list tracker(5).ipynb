{
 "cells": [
  {
   "cell_type": "code",
   "execution_count": 5,
   "id": "d7c7bac4-8833-4821-8a20-1a4450ccfab8",
   "metadata": {},
   "outputs": [
    {
     "name": "stdin",
     "output_type": "stream",
     "text": [
      "Enter grocery name- Potato\n",
      "Enter price- 170\n",
      "Enter grocery name- Paneer\n",
      "Enter price- 190\n",
      "Enter grocery name- Spinach\n",
      "Enter price- 150\n",
      "Enter grocery name- Rice\n",
      "Enter price- 500\n",
      "Enter grocery name- Daal\n",
      "Enter price- 470\n"
     ]
    },
    {
     "name": "stdout",
     "output_type": "stream",
     "text": [
      "Items in list- [('Potato', 170), ('Paneer', 190), ('Spinach', 150), ('Rice', 500), ('Daal', 470)]\n",
      "Total cost- 1480\n"
     ]
    }
   ],
   "source": [
    "li=[]\n",
    "sum=0\n",
    "for i in range (1,6):\n",
    "    name= input('Enter grocery name-')\n",
    "    price= int(input('Enter price-'))\n",
    "    li.append((name,price))\n",
    "    sum+=price\n",
    "print('Items in list-',li)\n",
    "print ('Total cost-',sum)\n",
    "    "
   ]
  },
  {
   "cell_type": "code",
   "execution_count": null,
   "id": "91a587d3-6260-4c19-ab71-7945a26157b8",
   "metadata": {},
   "outputs": [],
   "source": []
  }
 ],
 "metadata": {
  "kernelspec": {
   "display_name": "Python 3 (ipykernel)",
   "language": "python",
   "name": "python3"
  },
  "language_info": {
   "codemirror_mode": {
    "name": "ipython",
    "version": 3
   },
   "file_extension": ".py",
   "mimetype": "text/x-python",
   "name": "python",
   "nbconvert_exporter": "python",
   "pygments_lexer": "ipython3",
   "version": "3.12.4"
  }
 },
 "nbformat": 4,
 "nbformat_minor": 5
}
