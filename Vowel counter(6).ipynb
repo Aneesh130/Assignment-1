{
 "cells": [
  {
   "cell_type": "code",
   "execution_count": 8,
   "id": "3d0e2f1a-2224-4e19-bfae-64b3e40301e7",
   "metadata": {},
   "outputs": [
    {
     "name": "stdin",
     "output_type": "stream",
     "text": [
      "Enter alphabet- Aneesh\n"
     ]
    },
    {
     "name": "stdout",
     "output_type": "stream",
     "text": [
      "Total number of vowels in the string- 3\n"
     ]
    }
   ],
   "source": [
    "x = input( 'Enter alphabet-')\n",
    "sum=0\n",
    "for i in range (0, len(x)):\n",
    "    if x[i].lower() in ('a','e','i','o','u'):\n",
    "        sum+=1\n",
    "print ('Total number of vowels in the string-',sum)"
   ]
  },
  {
   "cell_type": "code",
   "execution_count": null,
   "id": "67882e4d-972c-4d57-87d0-37c432e6bcef",
   "metadata": {},
   "outputs": [],
   "source": []
  }
 ],
 "metadata": {
  "kernelspec": {
   "display_name": "Python 3 (ipykernel)",
   "language": "python",
   "name": "python3"
  },
  "language_info": {
   "codemirror_mode": {
    "name": "ipython",
    "version": 3
   },
   "file_extension": ".py",
   "mimetype": "text/x-python",
   "name": "python",
   "nbconvert_exporter": "python",
   "pygments_lexer": "ipython3",
   "version": "3.12.4"
  }
 },
 "nbformat": 4,
 "nbformat_minor": 5
}
