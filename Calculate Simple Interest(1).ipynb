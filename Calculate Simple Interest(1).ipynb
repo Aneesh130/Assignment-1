{
 "cells": [
  {
   "cell_type": "code",
   "execution_count": 2,
   "id": "199c5964-7e65-4046-ba56-91ad5296d7b3",
   "metadata": {},
   "outputs": [
    {
     "name": "stdin",
     "output_type": "stream",
     "text": [
      "Enter principal amount- 1000\n",
      "Enter time- 5\n",
      "Enter rate- 7\n"
     ]
    },
    {
     "name": "stdout",
     "output_type": "stream",
     "text": [
      "Simple Interest= 350.0\n"
     ]
    }
   ],
   "source": [
    "P = int(input('Enter principal amount-'))\n",
    "T = int(input('Enter time-'))\n",
    "R = int(input('Enter rate-'))\n",
    "SI = (P * T * R)/100\n",
    "print('Simple Interest=', SI)"
   ]
  },
  {
   "cell_type": "code",
   "execution_count": null,
   "id": "946b782f-2db2-48d6-8384-e12a4bd3b016",
   "metadata": {},
   "outputs": [],
   "source": []
  }
 ],
 "metadata": {
  "kernelspec": {
   "display_name": "Python 3 (ipykernel)",
   "language": "python",
   "name": "python3"
  },
  "language_info": {
   "codemirror_mode": {
    "name": "ipython",
    "version": 3
   },
   "file_extension": ".py",
   "mimetype": "text/x-python",
   "name": "python",
   "nbconvert_exporter": "python",
   "pygments_lexer": "ipython3",
   "version": "3.12.4"
  }
 },
 "nbformat": 4,
 "nbformat_minor": 5
}
