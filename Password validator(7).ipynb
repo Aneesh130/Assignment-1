{
 "cells": [
  {
   "cell_type": "code",
   "execution_count": 7,
   "id": "831d4a02-561e-491a-b459-d229e0668054",
   "metadata": {},
   "outputs": [
    {
     "name": "stdin",
     "output_type": "stream",
     "text": [
      "Enter password- Piopio123\n"
     ]
    },
    {
     "name": "stdout",
     "output_type": "stream",
     "text": [
      "Password is valid\n"
     ]
    }
   ],
   "source": [
    "Password= input('Enter password-')\n",
    "if len(Password) < 8:\n",
    "    print('Password is invalid.The length must be 8 characters long')\n",
    "else:\n",
    "    for char in Password:\n",
    "        if char.isupper():\n",
    "            x= True\n",
    "        if char.isdigit():\n",
    "            y=True\n",
    "    if x and y:\n",
    "        print('Password is valid')\n",
    "    else:\n",
    "        print('Password invalid. It must contain an uppercase letter and one digit')\n",
    "        "
   ]
  },
  {
   "cell_type": "code",
   "execution_count": null,
   "id": "f115162c-50b7-4555-8958-0bd4bac2fd4f",
   "metadata": {},
   "outputs": [],
   "source": []
  }
 ],
 "metadata": {
  "kernelspec": {
   "display_name": "Python 3 (ipykernel)",
   "language": "python",
   "name": "python3"
  },
  "language_info": {
   "codemirror_mode": {
    "name": "ipython",
    "version": 3
   },
   "file_extension": ".py",
   "mimetype": "text/x-python",
   "name": "python",
   "nbconvert_exporter": "python",
   "pygments_lexer": "ipython3",
   "version": "3.12.4"
  }
 },
 "nbformat": 4,
 "nbformat_minor": 5
}
