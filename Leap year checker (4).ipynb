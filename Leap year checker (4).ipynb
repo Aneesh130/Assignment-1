{
 "cells": [
  {
   "cell_type": "code",
   "execution_count": 27,
   "id": "cf85ebed-faa9-4d2c-bdf4-9e4435e79f07",
   "metadata": {},
   "outputs": [
    {
     "name": "stdin",
     "output_type": "stream",
     "text": [
      "Enter year- 2021\n"
     ]
    },
    {
     "name": "stdout",
     "output_type": "stream",
     "text": [
      "No it is not a leap year\n"
     ]
    }
   ],
   "source": [
    "Year = int(input('Enter year-'))\n",
    "if Year % 4 ==0 and Year % 100 != 0:\n",
    "    print('Yes it is a leap year')\n",
    "else:\n",
    "    print('No it is not a leap year')"
   ]
  },
  {
   "cell_type": "code",
   "execution_count": null,
   "id": "1d6c6de5-9204-4730-bac2-d607b322b5fb",
   "metadata": {},
   "outputs": [],
   "source": []
  }
 ],
 "metadata": {
  "kernelspec": {
   "display_name": "Python 3 (ipykernel)",
   "language": "python",
   "name": "python3"
  },
  "language_info": {
   "codemirror_mode": {
    "name": "ipython",
    "version": 3
   },
   "file_extension": ".py",
   "mimetype": "text/x-python",
   "name": "python",
   "nbconvert_exporter": "python",
   "pygments_lexer": "ipython3",
   "version": "3.12.4"
  }
 },
 "nbformat": 4,
 "nbformat_minor": 5
}
